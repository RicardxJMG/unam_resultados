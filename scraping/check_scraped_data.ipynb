{
 "cells": [
  {
   "cell_type": "markdown",
   "id": "b88d6c23",
   "metadata": {},
   "source": [
    "# Verificando datos después del scraping"
   ]
  },
  {
   "cell_type": "code",
   "execution_count": 17,
   "id": "33eb9911",
   "metadata": {},
   "outputs": [],
   "source": [
    "import os\n",
    "import pandas as pd     \n",
    "data_path  = './datos'"
   ]
  },
  {
   "cell_type": "code",
   "execution_count": null,
   "id": "cca46e89",
   "metadata": {},
   "outputs": [],
   "source": [
    "df_scores = pd.read_csv('./datos/resultados_unam_2025.csv', dtype=str)\n",
    "df_facultades = pd.read_csv('./datos/facultades_info.csv',dtype=str)\n",
    "df_careers = pd.read_csv('./datos/carreras_info.csv', dtype=str)"
   ]
  },
  {
   "cell_type": "markdown",
   "id": "1638b9ad",
   "metadata": {},
   "source": [
    "Probable inconsistencia en el df `df_scores` en la columna `puntaje`, ya que no se pudo transformar a tipo entero "
   ]
  },
  {
   "cell_type": "code",
   "execution_count": 96,
   "id": "e3d95e23",
   "metadata": {},
   "outputs": [
    {
     "data": {
      "text/html": [
       "<div>\n",
       "<style scoped>\n",
       "    .dataframe tbody tr th:only-of-type {\n",
       "        vertical-align: middle;\n",
       "    }\n",
       "\n",
       "    .dataframe tbody tr th {\n",
       "        vertical-align: top;\n",
       "    }\n",
       "\n",
       "    .dataframe thead th {\n",
       "        text-align: right;\n",
       "    }\n",
       "</style>\n",
       "<table border=\"1\" class=\"dataframe\">\n",
       "  <thead>\n",
       "    <tr style=\"text-align: right;\">\n",
       "      <th></th>\n",
       "      <th>id_aspirante</th>\n",
       "      <th>id_area</th>\n",
       "      <th>facultad</th>\n",
       "      <th>id_carrera</th>\n",
       "      <th>puntaje</th>\n",
       "      <th>acreditado</th>\n",
       "    </tr>\n",
       "  </thead>\n",
       "  <tbody>\n",
       "    <tr>\n",
       "      <th>0</th>\n",
       "      <td>000004</td>\n",
       "      <td>A1</td>\n",
       "      <td>FACULTAD DE CIENCIAS</td>\n",
       "      <td>101</td>\n",
       "      <td>111</td>\n",
       "      <td>Seleccionado</td>\n",
       "    </tr>\n",
       "    <tr>\n",
       "      <th>1</th>\n",
       "      <td>000012</td>\n",
       "      <td>A1</td>\n",
       "      <td>FACULTAD DE CIENCIAS</td>\n",
       "      <td>101</td>\n",
       "      <td>NaN</td>\n",
       "      <td>No presentado</td>\n",
       "    </tr>\n",
       "    <tr>\n",
       "      <th>2</th>\n",
       "      <td>000028</td>\n",
       "      <td>A1</td>\n",
       "      <td>FACULTAD DE CIENCIAS</td>\n",
       "      <td>101</td>\n",
       "      <td>69</td>\n",
       "      <td>No seleccionado</td>\n",
       "    </tr>\n",
       "    <tr>\n",
       "      <th>3</th>\n",
       "      <td>000034</td>\n",
       "      <td>A1</td>\n",
       "      <td>FACULTAD DE CIENCIAS</td>\n",
       "      <td>101</td>\n",
       "      <td>46</td>\n",
       "      <td>No seleccionado</td>\n",
       "    </tr>\n",
       "    <tr>\n",
       "      <th>4</th>\n",
       "      <td>000053</td>\n",
       "      <td>A1</td>\n",
       "      <td>FACULTAD DE CIENCIAS</td>\n",
       "      <td>101</td>\n",
       "      <td>91</td>\n",
       "      <td>No seleccionado</td>\n",
       "    </tr>\n",
       "    <tr>\n",
       "      <th>5</th>\n",
       "      <td>000061</td>\n",
       "      <td>A1</td>\n",
       "      <td>FACULTAD DE CIENCIAS</td>\n",
       "      <td>101</td>\n",
       "      <td>68</td>\n",
       "      <td>No seleccionado</td>\n",
       "    </tr>\n",
       "    <tr>\n",
       "      <th>6</th>\n",
       "      <td>000097</td>\n",
       "      <td>A1</td>\n",
       "      <td>FACULTAD DE CIENCIAS</td>\n",
       "      <td>101</td>\n",
       "      <td>60</td>\n",
       "      <td>No seleccionado</td>\n",
       "    </tr>\n",
       "  </tbody>\n",
       "</table>\n",
       "</div>"
      ],
      "text/plain": [
       "  id_aspirante id_area              facultad id_carrera puntaje  \\\n",
       "0       000004      A1  FACULTAD DE CIENCIAS        101     111   \n",
       "1       000012      A1  FACULTAD DE CIENCIAS        101     NaN   \n",
       "2       000028      A1  FACULTAD DE CIENCIAS        101      69   \n",
       "3       000034      A1  FACULTAD DE CIENCIAS        101      46   \n",
       "4       000053      A1  FACULTAD DE CIENCIAS        101      91   \n",
       "5       000061      A1  FACULTAD DE CIENCIAS        101      68   \n",
       "6       000097      A1  FACULTAD DE CIENCIAS        101      60   \n",
       "\n",
       "        acreditado  \n",
       "0     Seleccionado  \n",
       "1    No presentado  \n",
       "2  No seleccionado  \n",
       "3  No seleccionado  \n",
       "4  No seleccionado  \n",
       "5  No seleccionado  \n",
       "6  No seleccionado  "
      ]
     },
     "execution_count": 96,
     "metadata": {},
     "output_type": "execute_result"
    }
   ],
   "source": [
    "df_scores.head(7)"
   ]
  },
  {
   "cell_type": "code",
   "execution_count": 97,
   "id": "4223b104",
   "metadata": {},
   "outputs": [
    {
     "name": "stdout",
     "output_type": "stream",
     "text": [
      "<class 'pandas.core.frame.DataFrame'>\n",
      "RangeIndex: 174543 entries, 0 to 174542\n",
      "Data columns (total 6 columns):\n",
      " #   Column        Non-Null Count   Dtype \n",
      "---  ------        --------------   ----- \n",
      " 0   id_aspirante  174543 non-null  object\n",
      " 1   id_area       174543 non-null  object\n",
      " 2   facultad      174543 non-null  object\n",
      " 3   id_carrera    174543 non-null  object\n",
      " 4   puntaje       149434 non-null  object\n",
      " 5   acreditado    174543 non-null  object\n",
      "dtypes: object(6)\n",
      "memory usage: 8.0+ MB\n"
     ]
    }
   ],
   "source": [
    "df_scores.info()"
   ]
  },
  {
   "cell_type": "markdown",
   "id": "bbf74d0d",
   "metadata": {},
   "source": [
    "Es de esperarse que falten valores en la columna `puntaje`"
   ]
  },
  {
   "cell_type": "code",
   "execution_count": 98,
   "id": "1676ae18",
   "metadata": {},
   "outputs": [],
   "source": [
    "puntaje_valid = pd.to_numeric(df_scores['puntaje'], errors='coerce')"
   ]
  },
  {
   "cell_type": "code",
   "execution_count": 99,
   "id": "4fa3f52c",
   "metadata": {},
   "outputs": [
    {
     "data": {
      "text/html": [
       "<div>\n",
       "<style scoped>\n",
       "    .dataframe tbody tr th:only-of-type {\n",
       "        vertical-align: middle;\n",
       "    }\n",
       "\n",
       "    .dataframe tbody tr th {\n",
       "        vertical-align: top;\n",
       "    }\n",
       "\n",
       "    .dataframe thead th {\n",
       "        text-align: right;\n",
       "    }\n",
       "</style>\n",
       "<table border=\"1\" class=\"dataframe\">\n",
       "  <thead>\n",
       "    <tr style=\"text-align: right;\">\n",
       "      <th></th>\n",
       "      <th>id_aspirante</th>\n",
       "      <th>id_area</th>\n",
       "      <th>facultad</th>\n",
       "      <th>id_carrera</th>\n",
       "      <th>puntaje</th>\n",
       "      <th>acreditado</th>\n",
       "    </tr>\n",
       "  </thead>\n",
       "  <tbody>\n",
       "    <tr>\n",
       "      <th>31151</th>\n",
       "      <td>002131</td>\n",
       "      <td>A1</td>\n",
       "      <td>FACULTAD DE INGENIERÍA</td>\n",
       "      <td>115</td>\n",
       "      <td>E</td>\n",
       "      <td>No seleccionado</td>\n",
       "    </tr>\n",
       "  </tbody>\n",
       "</table>\n",
       "</div>"
      ],
      "text/plain": [
       "      id_aspirante id_area                facultad id_carrera puntaje  \\\n",
       "31151       002131      A1  FACULTAD DE INGENIERÍA        115       E   \n",
       "\n",
       "            acreditado  \n",
       "31151  No seleccionado  "
      ]
     },
     "execution_count": 99,
     "metadata": {},
     "output_type": "execute_result"
    }
   ],
   "source": [
    "not_valid = df_scores[puntaje_valid.isna() & df_scores['puntaje'].notna()]\n",
    "not_valid"
   ]
  },
  {
   "cell_type": "markdown",
   "id": "22bcb207",
   "metadata": {},
   "source": [
    "Notamos que exite un valor una 'E' en la fila 31151. Esta fila será eliminada."
   ]
  },
  {
   "cell_type": "code",
   "execution_count": 100,
   "id": "70ec702e",
   "metadata": {},
   "outputs": [
    {
     "data": {
      "text/plain": [
       "id_aspirante                    002143\n",
       "id_area                             A1\n",
       "facultad        FACULTAD DE INGENIERÍA\n",
       "id_carrera                         115\n",
       "puntaje                             25\n",
       "acreditado             No seleccionado\n",
       "Name: 31152, dtype: object"
      ]
     },
     "execution_count": 100,
     "metadata": {},
     "output_type": "execute_result"
    }
   ],
   "source": [
    "df_scores.drop(31151, inplace=True)\n",
    "df_scores.iloc[31151]"
   ]
  },
  {
   "cell_type": "code",
   "execution_count": 13,
   "id": "2ed1ac79",
   "metadata": {},
   "outputs": [
    {
     "name": "stdout",
     "output_type": "stream",
     "text": [
      "Se contaron 32 facultades y 30 identificadores distintos\n"
     ]
    }
   ],
   "source": [
    "count_ids_facultad = df_facultades.groupby('id_facultad').size().shape[0]\n",
    "count_facultades = df_facultades.groupby('facultad').size().shape[0]\n",
    "\n",
    "print(f'Se contaron {count_facultades} facultades y {count_ids_facultad} identificadores distintos')"
   ]
  },
  {
   "cell_type": "markdown",
   "id": "b197d8b8",
   "metadata": {},
   "source": [
    "El resultado anterior muestra que no hay una relación uno a uno con el número de facultades y de indentificadores."
   ]
  },
  {
   "cell_type": "code",
   "execution_count": 14,
   "id": "8c01a834",
   "metadata": {},
   "outputs": [
    {
     "data": {
      "text/html": [
       "<div>\n",
       "<style scoped>\n",
       "    .dataframe tbody tr th:only-of-type {\n",
       "        vertical-align: middle;\n",
       "    }\n",
       "\n",
       "    .dataframe tbody tr th {\n",
       "        vertical-align: top;\n",
       "    }\n",
       "\n",
       "    .dataframe thead th {\n",
       "        text-align: right;\n",
       "    }\n",
       "</style>\n",
       "<table border=\"1\" class=\"dataframe\">\n",
       "  <thead>\n",
       "    <tr style=\"text-align: right;\">\n",
       "      <th></th>\n",
       "      <th>id_facultad</th>\n",
       "      <th>facultad</th>\n",
       "    </tr>\n",
       "  </thead>\n",
       "  <tbody>\n",
       "    <tr>\n",
       "      <th>4</th>\n",
       "      <td>0015</td>\n",
       "      <td>FACULTAD DE ARQUITECTURA</td>\n",
       "    </tr>\n",
       "    <tr>\n",
       "      <th>5</th>\n",
       "      <td>0025</td>\n",
       "      <td>OAXACA</td>\n",
       "    </tr>\n",
       "    <tr>\n",
       "      <th>12</th>\n",
       "      <td>0025</td>\n",
       "      <td>FACULTAD DE ARTES Y DISEÑO</td>\n",
       "    </tr>\n",
       "    <tr>\n",
       "      <th>30</th>\n",
       "      <td>0015</td>\n",
       "      <td>TLAXCALA</td>\n",
       "    </tr>\n",
       "  </tbody>\n",
       "</table>\n",
       "</div>"
      ],
      "text/plain": [
       "   id_facultad                    facultad\n",
       "4         0015    FACULTAD DE ARQUITECTURA\n",
       "5         0025                      OAXACA\n",
       "12        0025  FACULTAD DE ARTES Y DISEÑO\n",
       "30        0015                    TLAXCALA"
      ]
     },
     "execution_count": 14,
     "metadata": {},
     "output_type": "execute_result"
    }
   ],
   "source": [
    "df_facultades.loc[(df_facultades['id_facultad'] == '0025') | (df_facultades['id_facultad'] == '0015')]"
   ]
  },
  {
   "cell_type": "code",
   "execution_count": 15,
   "id": "b305415f",
   "metadata": {},
   "outputs": [],
   "source": [
    "df_facultades.loc[5, \"id_facultad\"] = \"1025\"\n",
    "df_facultades.loc[30, \"id_facultad\"] = \"1015\""
   ]
  },
  {
   "cell_type": "code",
   "execution_count": 16,
   "id": "252e3d9b",
   "metadata": {},
   "outputs": [
    {
     "name": "stdout",
     "output_type": "stream",
     "text": [
      "Se contaron 32 facultades y 32 identificadores distintos\n"
     ]
    }
   ],
   "source": [
    "count_ids_facultad = df_facultades.groupby('id_facultad').size().shape[0]\n",
    "count_facultades = df_facultades.groupby('facultad').size().shape[0]\n",
    "\n",
    "\n",
    "print(f'Se contaron {count_facultades} facultades y {count_ids_facultad} identificadores distintos')"
   ]
  },
  {
   "cell_type": "code",
   "execution_count": 18,
   "id": "3bcd25e0",
   "metadata": {},
   "outputs": [],
   "source": [
    "facultades_path = os.path.join(data_path, 'facultades_info.csv')\n",
    "df_facultades.to_csv(facultades_path, index = False)"
   ]
  },
  {
   "cell_type": "markdown",
   "id": "998398ea",
   "metadata": {},
   "source": [
    "Con este ligero ajuste ya se tiene una relación uno a uno entre los id's y el nombre de facultades"
   ]
  },
  {
   "cell_type": "code",
   "execution_count": 161,
   "id": "b998c730",
   "metadata": {},
   "outputs": [
    {
     "data": {
      "text/html": [
       "<div>\n",
       "<style scoped>\n",
       "    .dataframe tbody tr th:only-of-type {\n",
       "        vertical-align: middle;\n",
       "    }\n",
       "\n",
       "    .dataframe tbody tr th {\n",
       "        vertical-align: top;\n",
       "    }\n",
       "\n",
       "    .dataframe thead th {\n",
       "        text-align: right;\n",
       "    }\n",
       "</style>\n",
       "<table border=\"1\" class=\"dataframe\">\n",
       "  <thead>\n",
       "    <tr style=\"text-align: right;\">\n",
       "      <th></th>\n",
       "      <th>id_aspirante</th>\n",
       "      <th>id_area</th>\n",
       "      <th>facultad</th>\n",
       "      <th>id_carrera</th>\n",
       "      <th>puntaje</th>\n",
       "      <th>acreditado</th>\n",
       "      <th>id_facultad</th>\n",
       "    </tr>\n",
       "  </thead>\n",
       "  <tbody>\n",
       "    <tr>\n",
       "      <th>112706</th>\n",
       "      <td>138228</td>\n",
       "      <td>A2</td>\n",
       "      <td>FACULTAD DE QUÍMICA</td>\n",
       "      <td>213</td>\n",
       "      <td>74</td>\n",
       "      <td>No seleccionado</td>\n",
       "      <td>0055</td>\n",
       "    </tr>\n",
       "    <tr>\n",
       "      <th>2760</th>\n",
       "      <td>003147</td>\n",
       "      <td>A1</td>\n",
       "      <td>FACULTAD DE ARQUITECTURA</td>\n",
       "      <td>102</td>\n",
       "      <td>53</td>\n",
       "      <td>No seleccionado</td>\n",
       "      <td>0015</td>\n",
       "    </tr>\n",
       "    <tr>\n",
       "      <th>88888</th>\n",
       "      <td>119569</td>\n",
       "      <td>A2</td>\n",
       "      <td>FES IZTACALA</td>\n",
       "      <td>208</td>\n",
       "      <td>31</td>\n",
       "      <td>No seleccionado</td>\n",
       "      <td>3005</td>\n",
       "    </tr>\n",
       "    <tr>\n",
       "      <th>72670</th>\n",
       "      <td>100660</td>\n",
       "      <td>A2</td>\n",
       "      <td>FACULTAD DE MEDICINA</td>\n",
       "      <td>208</td>\n",
       "      <td>32</td>\n",
       "      <td>No seleccionado</td>\n",
       "      <td>0125</td>\n",
       "    </tr>\n",
       "    <tr>\n",
       "      <th>161785</th>\n",
       "      <td>333858</td>\n",
       "      <td>A4</td>\n",
       "      <td>FES ACATLÁN</td>\n",
       "      <td>406</td>\n",
       "      <td>71</td>\n",
       "      <td>No seleccionado</td>\n",
       "      <td>2005</td>\n",
       "    </tr>\n",
       "    <tr>\n",
       "      <th>151947</th>\n",
       "      <td>225718</td>\n",
       "      <td>A3</td>\n",
       "      <td>FES ARAGÓN</td>\n",
       "      <td>306</td>\n",
       "      <td>45</td>\n",
       "      <td>No seleccionado</td>\n",
       "      <td>4005</td>\n",
       "    </tr>\n",
       "    <tr>\n",
       "      <th>78884</th>\n",
       "      <td>135984</td>\n",
       "      <td>A2</td>\n",
       "      <td>FACULTAD DE MEDICINA</td>\n",
       "      <td>208</td>\n",
       "      <td>38</td>\n",
       "      <td>No seleccionado</td>\n",
       "      <td>0125</td>\n",
       "    </tr>\n",
       "    <tr>\n",
       "      <th>52850</th>\n",
       "      <td>089016</td>\n",
       "      <td>A2</td>\n",
       "      <td>FES IZTACALA</td>\n",
       "      <td>220</td>\n",
       "      <td>38</td>\n",
       "      <td>No seleccionado</td>\n",
       "      <td>3005</td>\n",
       "    </tr>\n",
       "    <tr>\n",
       "      <th>45300</th>\n",
       "      <td>084231</td>\n",
       "      <td>A2</td>\n",
       "      <td>FES IZTACALA</td>\n",
       "      <td>202</td>\n",
       "      <td>59</td>\n",
       "      <td>No seleccionado</td>\n",
       "      <td>3005</td>\n",
       "    </tr>\n",
       "    <tr>\n",
       "      <th>70747</th>\n",
       "      <td>088833</td>\n",
       "      <td>A2</td>\n",
       "      <td>FACULTAD DE MEDICINA</td>\n",
       "      <td>208</td>\n",
       "      <td>48</td>\n",
       "      <td>No seleccionado</td>\n",
       "      <td>0125</td>\n",
       "    </tr>\n",
       "  </tbody>\n",
       "</table>\n",
       "</div>"
      ],
      "text/plain": [
       "       id_aspirante id_area                  facultad id_carrera puntaje  \\\n",
       "112706       138228      A2       FACULTAD DE QUÍMICA        213      74   \n",
       "2760         003147      A1  FACULTAD DE ARQUITECTURA        102      53   \n",
       "88888        119569      A2              FES IZTACALA        208      31   \n",
       "72670        100660      A2      FACULTAD DE MEDICINA        208      32   \n",
       "161785       333858      A4               FES ACATLÁN        406      71   \n",
       "151947       225718      A3                FES ARAGÓN        306      45   \n",
       "78884        135984      A2      FACULTAD DE MEDICINA        208      38   \n",
       "52850        089016      A2              FES IZTACALA        220      38   \n",
       "45300        084231      A2              FES IZTACALA        202      59   \n",
       "70747        088833      A2      FACULTAD DE MEDICINA        208      48   \n",
       "\n",
       "             acreditado id_facultad  \n",
       "112706  No seleccionado        0055  \n",
       "2760    No seleccionado        0015  \n",
       "88888   No seleccionado        3005  \n",
       "72670   No seleccionado        0125  \n",
       "161785  No seleccionado        2005  \n",
       "151947  No seleccionado        4005  \n",
       "78884   No seleccionado        0125  \n",
       "52850   No seleccionado        3005  \n",
       "45300   No seleccionado        3005  \n",
       "70747   No seleccionado        0125  "
      ]
     },
     "execution_count": 161,
     "metadata": {},
     "output_type": "execute_result"
    }
   ],
   "source": [
    "tmp_df = pd.merge(df_scores, df_facultades, on = \"facultad\")\n",
    "tmp_df.sample(10)"
   ]
  },
  {
   "cell_type": "code",
   "execution_count": 162,
   "id": "73da0675",
   "metadata": {},
   "outputs": [
    {
     "data": {
      "text/plain": [
       "True"
      ]
     },
     "execution_count": 162,
     "metadata": {},
     "output_type": "execute_result"
    }
   ],
   "source": [
    "tmp_df.shape[0] == df_scores.shape[0]"
   ]
  },
  {
   "cell_type": "markdown",
   "id": "e55afad4",
   "metadata": {},
   "source": [
    "Los datos se unieron correctamente, así que se eliminará la columna `facultad` de la nueva tabla y se guardará."
   ]
  },
  {
   "cell_type": "code",
   "execution_count": 165,
   "id": "64f4ed89",
   "metadata": {},
   "outputs": [
    {
     "data": {
      "text/html": [
       "<div>\n",
       "<style scoped>\n",
       "    .dataframe tbody tr th:only-of-type {\n",
       "        vertical-align: middle;\n",
       "    }\n",
       "\n",
       "    .dataframe tbody tr th {\n",
       "        vertical-align: top;\n",
       "    }\n",
       "\n",
       "    .dataframe thead th {\n",
       "        text-align: right;\n",
       "    }\n",
       "</style>\n",
       "<table border=\"1\" class=\"dataframe\">\n",
       "  <thead>\n",
       "    <tr style=\"text-align: right;\">\n",
       "      <th></th>\n",
       "      <th>id_aspirante</th>\n",
       "      <th>id_area</th>\n",
       "      <th>id_facultad</th>\n",
       "      <th>id_carrera</th>\n",
       "      <th>puntaje</th>\n",
       "      <th>acreditado</th>\n",
       "    </tr>\n",
       "  </thead>\n",
       "  <tbody>\n",
       "    <tr>\n",
       "      <th>151072</th>\n",
       "      <td>213747</td>\n",
       "      <td>A3</td>\n",
       "      <td>2005</td>\n",
       "      <td>306</td>\n",
       "      <td>42</td>\n",
       "      <td>No seleccionado</td>\n",
       "    </tr>\n",
       "    <tr>\n",
       "      <th>108358</th>\n",
       "      <td>107305</td>\n",
       "      <td>A2</td>\n",
       "      <td>5005</td>\n",
       "      <td>210</td>\n",
       "      <td>34</td>\n",
       "      <td>No seleccionado</td>\n",
       "    </tr>\n",
       "    <tr>\n",
       "      <th>169739</th>\n",
       "      <td>344907</td>\n",
       "      <td>A4</td>\n",
       "      <td>0105</td>\n",
       "      <td>421</td>\n",
       "      <td>48</td>\n",
       "      <td>No seleccionado</td>\n",
       "    </tr>\n",
       "    <tr>\n",
       "      <th>116598</th>\n",
       "      <td>215530</td>\n",
       "      <td>A3</td>\n",
       "      <td>0065</td>\n",
       "      <td>301</td>\n",
       "      <td>85</td>\n",
       "      <td>No seleccionado</td>\n",
       "    </tr>\n",
       "    <tr>\n",
       "      <th>105268</th>\n",
       "      <td>110919</td>\n",
       "      <td>A2</td>\n",
       "      <td>3005</td>\n",
       "      <td>210</td>\n",
       "      <td>59</td>\n",
       "      <td>No seleccionado</td>\n",
       "    </tr>\n",
       "    <tr>\n",
       "      <th>163656</th>\n",
       "      <td>337115</td>\n",
       "      <td>A4</td>\n",
       "      <td>0025</td>\n",
       "      <td>405</td>\n",
       "      <td>40</td>\n",
       "      <td>No seleccionado</td>\n",
       "    </tr>\n",
       "    <tr>\n",
       "      <th>34166</th>\n",
       "      <td>016271</td>\n",
       "      <td>A1</td>\n",
       "      <td>1005</td>\n",
       "      <td>116</td>\n",
       "      <td>62</td>\n",
       "      <td>No seleccionado</td>\n",
       "    </tr>\n",
       "    <tr>\n",
       "      <th>149787</th>\n",
       "      <td>227862</td>\n",
       "      <td>A3</td>\n",
       "      <td>0085</td>\n",
       "      <td>306</td>\n",
       "      <td>62</td>\n",
       "      <td>No seleccionado</td>\n",
       "    </tr>\n",
       "    <tr>\n",
       "      <th>60439</th>\n",
       "      <td>094068</td>\n",
       "      <td>A2</td>\n",
       "      <td>6005</td>\n",
       "      <td>221</td>\n",
       "      <td>35</td>\n",
       "      <td>No seleccionado</td>\n",
       "    </tr>\n",
       "    <tr>\n",
       "      <th>50805</th>\n",
       "      <td>152620</td>\n",
       "      <td>A2</td>\n",
       "      <td>8005</td>\n",
       "      <td>225</td>\n",
       "      <td>NaN</td>\n",
       "      <td>No presentado</td>\n",
       "    </tr>\n",
       "  </tbody>\n",
       "</table>\n",
       "</div>"
      ],
      "text/plain": [
       "       id_aspirante id_area id_facultad id_carrera puntaje       acreditado\n",
       "151072       213747      A3        2005        306      42  No seleccionado\n",
       "108358       107305      A2        5005        210      34  No seleccionado\n",
       "169739       344907      A4        0105        421      48  No seleccionado\n",
       "116598       215530      A3        0065        301      85  No seleccionado\n",
       "105268       110919      A2        3005        210      59  No seleccionado\n",
       "163656       337115      A4        0025        405      40  No seleccionado\n",
       "34166        016271      A1        1005        116      62  No seleccionado\n",
       "149787       227862      A3        0085        306      62  No seleccionado\n",
       "60439        094068      A2        6005        221      35  No seleccionado\n",
       "50805        152620      A2        8005        225     NaN    No presentado"
      ]
     },
     "execution_count": 165,
     "metadata": {},
     "output_type": "execute_result"
    }
   ],
   "source": [
    "tmp_df['facultad'] = tmp_df['id_facultad']\n",
    "tmp_df.drop(columns=['id_facultad'], inplace=True)\n",
    "tmp_df.rename(columns = {'facultad': 'id_facultad'}, inplace = True)\n",
    "tmp_df.sample(10)"
   ]
  },
  {
   "cell_type": "code",
   "execution_count": null,
   "id": "9ccd5ac9",
   "metadata": {},
   "outputs": [],
   "source": [
    "scores_path = os.path.join(data_path, 'resultados_unam_2025.csv')\n",
    "tmp_df.to_csv(scores_path, index = False)"
   ]
  },
  {
   "cell_type": "markdown",
   "id": "c7c7c857",
   "metadata": {},
   "source": [
    "Finalmente, creamos el dataframe de la información de las áreas. "
   ]
  },
  {
   "cell_type": "code",
   "execution_count": 11,
   "id": "b25d4ad6",
   "metadata": {},
   "outputs": [],
   "source": [
    "area_data = [['A1', 'Ciencias Físico-Matemáticas e Ingenierías'],\n",
    "             ['A2', 'Ciencias Biológicas, Químicas y de la Salud'],\n",
    "             ['A3', 'Ciencias Sociales'], \n",
    "             ['A4', 'Humanidades y Artes']]\n",
    "\n",
    "area_path = os.path.join(data_path, 'area_info.csv')\n",
    "area_df = pd.DataFrame(data=area_data, columns=['area_id', 'area'])\n",
    "area_df.to_csv(area_path, index=False)"
   ]
  }
 ],
 "metadata": {
  "kernelspec": {
   "display_name": "Python 3",
   "language": "python",
   "name": "python3"
  },
  "language_info": {
   "codemirror_mode": {
    "name": "ipython",
    "version": 3
   },
   "file_extension": ".py",
   "mimetype": "text/x-python",
   "name": "python",
   "nbconvert_exporter": "python",
   "pygments_lexer": "ipython3",
   "version": "3.12.4"
  }
 },
 "nbformat": 4,
 "nbformat_minor": 5
}
